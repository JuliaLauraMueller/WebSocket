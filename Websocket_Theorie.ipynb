{
 "cells": [
  {
   "cell_type": "markdown",
   "metadata": {},
   "source": [
    "# Websocket"
   ]
  },
  {
   "cell_type": "markdown",
   "metadata": {},
   "source": [
    "## Theoretischer Teil"
   ]
  },
  {
   "cell_type": "markdown",
   "metadata": {},
   "source": [
    "**1. Auftrag**\n",
    "\n",
    "Es soll ein theoretischer Teil erarbeitet werden. Dies soll in einem Jupyter Notebook dokumentiert werden. Ihre kvanC Gruppenarbeit soll in das bestehende Jupyter System integriert werden. Das heisst, es sollen auch Code Snippets dargestellt werden, welche die zentralen Aussagen aufzeigen oder unterstützend beschreiben (müssen nicht unbedingt ausgeführt werden, gerade wenn eine andere Programmiersprache verwendet wird). Dieses Notebook soll auch die Grundlage der Präsentation sein."
   ]
  },
  {
   "cell_type": "code",
   "execution_count": null,
   "metadata": {},
   "outputs": [],
   "source": []
  }
 ],
 "metadata": {
  "kernelspec": {
   "display_name": "Python 3",
   "language": "python",
   "name": "python3"
  },
  "language_info": {
   "codemirror_mode": {
    "name": "ipython",
    "version": 3
   },
   "file_extension": ".py",
   "mimetype": "text/x-python",
   "name": "python",
   "nbconvert_exporter": "python",
   "pygments_lexer": "ipython3",
   "version": "3.7.3"
  }
 },
 "nbformat": 4,
 "nbformat_minor": 2
}
