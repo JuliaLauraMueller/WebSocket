{
 "cells": [
  {
   "cell_type": "markdown",
   "metadata": {},
   "source": [
    "# Websocket"
   ]
  },
  {
   "cell_type": "markdown",
   "metadata": {},
   "source": [
    "## Theoretischer Teil"
   ]
  },
  {
   "cell_type": "markdown",
   "metadata": {},
   "source": [
    "**1. Auftrag**\n",
    "\n",
    "Es soll ein theoretischer Teil erarbeitet werden. Dies soll in einem Jupyter Notebook dokumentiert werden. Ihre kvanC Gruppenarbeit soll in das bestehende Jupyter System integriert werden. Das heisst, es sollen auch Code Snippets dargestellt werden, welche die zentralen Aussagen aufzeigen oder unterstützend beschreiben (müssen nicht unbedingt ausgeführt werden, gerade wenn eine andere Programmiersprache verwendet wird). Dieses Notebook soll auch die Grundlage der Präsentation sein."
   ]
  },
  {
   "cell_type": "markdown",
   "metadata": {},
   "source": [
    "References (Links)\n",
    "- Duplex: http://www.tcpipguide.com/free/t_SimplexFullDuplexandHalfDuplexOperation.htm \n",
    "- Duplex: https://de.slideshare.net/peterlubbers/html5-real-time-and-websocket/14-HTTP_HTTP_is_halfduplex_Traffic\n",
    "- Polling: https://www.heise.de/developer/artikel/WebSocket-Annaeherung-an-Echtzeit-im-Web-1260189.html\n",
    "- Websocket Basic: https://de.wikipedia.org/wiki/WebSocket\n",
    "- Websocket Basic: https://dzone.com/refcardz/html5-websocket?chapter=1\n",
    "- DataTransfer: https://www.digitalocean.com/community/tutorials/an-introduction-to-networking-terminology-interfaces-and-protocols\n",
    "- Websocket Connection (Handshake): https://sookocheff.com/post/networking/how-do-websockets-work/\n",
    "- Websocket Python: https://websockets.readthedocs.io/en/stable/"
   ]
  },
  {
   "cell_type": "code",
   "execution_count": null,
   "metadata": {},
   "outputs": [],
   "source": []
  }
 ],
 "metadata": {
  "kernelspec": {
   "display_name": "Python 3",
   "language": "python",
   "name": "python3"
  },
  "language_info": {
   "codemirror_mode": {
    "name": "ipython",
    "version": 3
   },
   "file_extension": ".py",
   "mimetype": "text/x-python",
   "name": "python",
   "nbconvert_exporter": "python",
   "pygments_lexer": "ipython3",
   "version": "3.7.4"
  }
 },
 "nbformat": 4,
 "nbformat_minor": 4
}
