{
 "cells": [
  {
   "cell_type": "markdown",
   "metadata": {},
   "source": [
    "# Websocket "
   ]
  },
  {
   "cell_type": "markdown",
   "metadata": {},
   "source": [
    "## Praktischer Teil - Chatbot"
   ]
  },
  {
   "cell_type": "markdown",
   "metadata": {},
   "source": [
    "**1.Auftrag**\n",
    "\n",
    "Das Konzept der Chat-Bot Applikation soll im Kontext des erarbeiteten Themas implementiert werden. Die Chat Applikation soll zeigen, wie eine einfache Implementierung dieses Themenbereichs aussehen kann und welche Funktionalitäten, aber auch welche Probleme und Schwierigkeiten damit verbunden sind. Das Konzept der Applikation kann auf die Eigenschaften der Technologie/Protokoll/Patterns angepasst werden. Es soll auch Wert auf die Integration des kvanC Jupyter Systems gelegt werden. Das heisst, dass die IP Adressen der Studierenden (oder die Usernamen via /etc/hosts) wenn angebracht oder nötig verwendet werden. Ebenso soll die Chat Applikation (evtl auch nur der Client) in das Jupyter Notebook miteinbezogen werden und so (nach einer Verteilung der Notebooks) von allen Studierenden ausprobiert werden können. Dies kann auch durch die Nutzung des Terminals erreicht werden, falls andere Programmiersprachen verwendet werden."
   ]
  },
  {
   "cell_type": "code",
   "execution_count": null,
   "metadata": {},
   "outputs": [],
   "source": []
  }
 ],
 "metadata": {
  "kernelspec": {
   "display_name": "Python 3",
   "language": "python",
   "name": "python3"
  },
  "language_info": {
   "codemirror_mode": {
    "name": "ipython",
    "version": 3
   },
   "file_extension": ".py",
   "mimetype": "text/x-python",
   "name": "python",
   "nbconvert_exporter": "python",
   "pygments_lexer": "ipython3",
   "version": "3.7.4"
  }
 },
 "nbformat": 4,
 "nbformat_minor": 4
}
