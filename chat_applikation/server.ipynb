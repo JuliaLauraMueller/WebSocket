{
 "cells": [
  {
   "cell_type": "markdown",
   "metadata": {
    "pycharm": {
     "name": "#%% md\n"
    }
   },
   "source": [
    "## Websocket Server "
   ]
  },
  {
   "cell_type": "code",
   "execution_count": 1,
   "metadata": {},
   "outputs": [
    {
     "name": "stdout",
     "output_type": "stream",
     "text": [
      "Init of WebsocketServer.\n"
     ]
    },
    {
     "data": {
      "text/plain": [
       "<Task pending name='Task-1' coro=<_wrap_awaitable() running at /opt/conda/envs/kvanc/lib/python3.8/asyncio/tasks.py:677>>"
      ]
     },
     "execution_count": 1,
     "metadata": {},
     "output_type": "execute_result"
    }
   ],
   "source": [
    "import asyncio\n",
    "import os\n",
    "import websockets\n",
    "from re import search\n",
    "\n",
    "class WebsocketServer:\n",
    "    \"\"\"\n",
    "    Websocket server which can receive messages from any user.\n",
    "    \"\"\"\n",
    "    \n",
    "    def __init__(self, server_ip=\"$USER\", server_port=8080):\n",
    "        \"\"\"\n",
    "        Init of WebsocketServer. \n",
    "        Create dictionary for all connected clients with name and websocketobject and starts websocket server.\n",
    "        server_ip (str): Either and IPv4 address or a name which can get resolved to an IP address.\n",
    "        server_port (int): default port is 8080\n",
    "        \"\"\"\n",
    "        self.server_port = server_port\n",
    "        self.clients_connected = dict() # key:name, value:websocketobject\n",
    "        self.server_ip = os.path.expandvars(server_ip)\n",
    "        self.websocket_server = websockets.serve(self.connection_handler, self.server_ip, self.server_port)\n",
    "        print(\"Init of WebsocketServer.\")\n",
    "        \n",
    "    async def connection_handler(self, websocket, path):\n",
    "        \"\"\"\n",
    "        Handles the communication patterns 1:all (broadcast) and 1:1 as well as the connected clients in a dictionary.\n",
    "        websocket (websocket object): A websocket-server-protocol object that will be used for communication.\n",
    "        path (str): Returns the path of uri of request.\n",
    "        \"\"\"\n",
    "        first = True\n",
    "        user_name = None\n",
    "        \n",
    "        try:\n",
    "            async for msg in websocket:\n",
    "                if first:\n",
    "                    user_name = msg\n",
    "                    print(f\"Address: {websocket.remote_address} of User {user_name}\")\n",
    "                    self.clients_connected[user_name] = websocket \n",
    "                    print(f\"All Clients connected: {self.clients_connected}\\n\")\n",
    "                    first = False\n",
    "                    continue\n",
    "        \n",
    "                receiver, message = msg.split(':', maxsplit=1)\n",
    "                    \n",
    "                if receiver == \"*\": \n",
    "                    for name, websocketobject in self.clients_connected.items(): \n",
    "                        if name != user_name:\n",
    "                            await websocketobject.send(f\"{user_name}:{message}\") # send to all clients\n",
    "                else:\n",
    "                    if receiver in self.clients_connected: \n",
    "                        await self.clients_connected[receiver].send(f\"{user_name}:{message}\") # send to one client\n",
    "                    else:\n",
    "                        await websocket.send(f\"Server: {receiver} does not exist. Try sending it to another User.\")\n",
    "                \n",
    "        except websockets.ConnectionClosedError:\n",
    "            pass\n",
    "        \n",
    "        finally:\n",
    "            print(f\"User {user_name} was successfully disconnected.\")\n",
    "            del self.clients_connected[user_name]\n",
    "    \n",
    "\n",
    "################ Start Websocket-Server ################\n",
    "server = WebsocketServer(server_ip='kvanc.exercise')\n",
    "asyncio.ensure_future(server.websocket_server)"
   ]
  },
  {
   "cell_type": "code",
   "execution_count": null,
   "metadata": {},
   "outputs": [],
   "source": []
  }
 ],
 "metadata": {
  "kernelspec": {
   "display_name": "Python 3",
   "language": "python",
   "name": "python3"
  },
  "language_info": {
   "codemirror_mode": {
    "name": "ipython",
    "version": 3
   },
   "file_extension": ".py",
   "mimetype": "text/x-python",
   "name": "python",
   "nbconvert_exporter": "python",
   "pygments_lexer": "ipython3",
   "version": "3.8.1"
  },
  "pycharm": {
   "stem_cell": {
    "cell_type": "raw",
    "metadata": {
     "collapsed": false
    },
    "source": []
   }
  }
 },
 "nbformat": 4,
 "nbformat_minor": 4
}
