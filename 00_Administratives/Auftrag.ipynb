{
 "cells": [
  {
   "cell_type": "markdown",
   "metadata": {},
   "source": [
    "# kvanC Gruppenarbeit FS 2020\n",
    "\n",
    "## Auftrag\n",
    "\n",
    "**1. Theoretischer Teil**\n",
    "\n",
    "Es soll ein theoretischer Teil erarbeitet werden. Dies soll in einem Jupyter Notebook dokumentiert werden. Ihre kvanC Gruppenarbeit soll in das bestehende Jupyter System integriert werden. Das heisst, es sollen auch Code Snippets dargestellt werden, welche die zentralen Aussagen aufzeigen oder unterstützend beschreiben (müssen nicht unbedingt ausgeführt werden, gerade wenn eine andere Programmiersprache verwendet wird). Dieses Notebook soll auch die Grundlage der Präsentation sein.\n",
    "\n",
    "**2. Praktischer Teil**\n",
    "\n",
    "Das Konzept der Chat-Bot Applikation soll im Kontext des erarbeiteten Themas implementiert werden. Die Chat Applikation soll zeigen, wie eine einfache Implementierung dieses Themenbereichs aussehen kann und welche Funktionalitäten, aber auch welche Probleme und Schwierigkeiten damit verbunden sind. Das Konzept der Applikation kann auf die Eigenschaften der Technologie/Protokoll/Patterns angepasst werden. Es soll auch Wert auf die Integration des kvanC Jupyter Systems gelegt werden. Das heisst, dass die IP Adressen der Studierenden (oder die Usernamen via /etc/hosts) wenn angebracht oder nötig verwendet werden. Ebenso soll die Chat Applikation (evtl auch nur der Client) in das Jupyter Notebook miteinbezogen werden und so (nach einer Verteilung der Notebooks) von allen Studierenden ausprobiert werden können. Dies kann auch durch die Nutzung des Terminals erreicht werden, falls andere Programmiersprachen verwendet werden.\n",
    "\n",
    "**3. Präsentation**\n",
    "\n",
    "In den Wochen 22 und 23 sollen die Notebooks präsentiert werden. Die Präsentation soll zwischen 10 und 15 Minuten dauern und wird von einer Fragerunde gefolgt. Allenfalls kann die Präsentation auch asynchron mittels eines Videos durchgeführt werden. Es soll auch eine Demo der entwickelten Applikation gezeigt werden.\n",
    "\n",
    "## Sonstiges\n",
    "\n",
    "**Statusmeeting**\n",
    "\n",
    "Verteilt über die KW 18,19 und 20 wird pro Gruppe ein Status Meeting durchgeführt. Hier soll der aktuelle Stand aufgezeigt werden und allenfalls nötige Korrekturen vorgenommen werden.\n",
    "\n",
    "**Coaching**\n",
    "\n",
    "Es können so viele Coaching Anfragen wie nötig gestellt werden. Via Slack oder Mail die offenen/problematischen Punkte ansprechen und wir werden diese in einer WebEx Session diskutieren und lösen. Ebenfalls wird eine WebEx Session während den regulären Unterrichtszeiten offen sein für spontane Fragen oder den Austausch zwischen den Gruppen und/oder dem Coach.\n",
    "\n",
    "**Programmiersprache**\n",
    "\n",
    "Die Programmiersprache kann frei gewählt werden. Die Applikation kann auch via Terminal aufgerufen werden, statt direkt in Python im Jupyter Notebook.\n",
    "\n",
    "**Anpassungen Server**\n",
    "\n",
    "Falls irgendwelche Anpassungen am Server, wie zusätzliche Pakete, Rechte oder ähnliches benötigt wird, bitte mitteilen.\n",
    "\n",
    "**TCP Ports**\n",
    "\n",
    "Folgende TCP Ports auf dem Server sind auch aus dem VPN erreichbar: 80, 443, 8080, 8443, 3389, 5900 - 5909"
   ]
  },
  {
   "cell_type": "markdown",
   "metadata": {},
   "source": [
    "## Übersicht der Themen\n",
    "\n",
    "**HTTP**: Kommunikation über das HTTP Protokoll. Beschreibung der HTTP und HTTPS Protokolle und wichtige Eigenschaften davon für die Kommunikation von Web Applikationen.\n",
    "\n",
    "**HTTP CORS**: Kommunikation über HTTP, welches den Cross-Origin Resource Sharing (CORS) Mechanismus irgendwo in der Applikation verwendet. Ebenfalls soll der Fokus der Dokumentation auf CORS liegen.\n",
    "\n",
    "**HTTP REST**: Kommunikation über das HTTP Protokoll mittels einer Representational State Transfer (REST) Schnittstelle. Der Fokus der Dokumentation liegt ebenfalls auf REST.\n",
    "\n",
    "**MQTT**: Das IoT Protokoll Message Queuing Telemetry Transport (MQTT) wird verwendet. Der Fokus der Dokumentation soll auf die real-world Use Cases von MQTT eingehen und nicht auf die Verwendung innerhalb der Chat Applikation.\n",
    "\n",
    "**WebSocket**: Kommunikation über das WebSocket Protokoll. Beschreibung des Protokolls und wichtige Eigenschaften davon für die Kommunikation von Web Applikationen.\n",
    "\n",
    "**Files over FTP**: Die Kommunikation soll über Files stattfinden. Um die Files zu übertragen, soll das FTP Protokoll verwendet werden. Die Dokumentation soll ebenfalls FTPS und SFTP thematisieren.\n",
    "\n",
    "**REQ REP (ZeroMQ)**: Die Kommunikation erfolgt über ein Request-Response Pattern (von ZeroMQ). Die Dokumentation soll auf mehrere verschiedene REQ REP Patterns und deren Erweiterungen eingehen.\n",
    "\n",
    "**PUB SUB (ZeroMQ)**: Die Kommunikation erfolgt über ein Publish-Subscribe Pattern (von ZeroMQ). Die Dokumentation soll auf mehrere verschiedene PUB SUB Patterns und deren Erweiterungen eingehen.\n",
    "\n",
    "**Broker (ZeroMQ)**: Die Kommunikation erfolgt über einen Broker (oder Proxy) im ZeroMQ Umfeld. Es sollen mehrere (ZeroMQ) Broker Patters beschrieben werden.\n",
    "\n",
    "**RabbitMQ**: Die Kommunikation erfolgt über das RabbitMQ System. Die Dokumentation soll mehrere Patterns von RabbitMQ aufzeigen und erklären.\n",
    "\n",
    "**SMTP**: Die Kommunikation erfolgt über das Das Simple Mail Transfer Protocol (SMTP), welches lokal auf dem Server verwendet werden soll. Die Dokumentation zeigt aber auch weitere E-Mail spezifische Protokolle auf.\n",
    "\n",
    "**Google Protocol Buffers**: Hier geht es um das Format der Message und nicht um den Transport-Kanal. Server und Client sollen in 2 verschiedene Sprachen implementiert sein, damit der Use Case von Protocol Buffers ersichtlich ist.\n",
    "\n",
    "**Remote Procedure Call**: Die Kommunikation erfolgt über Remote Procedure Calls (RPC) mittels der xmlrpc Definition. Die Dokumentation soll RPCs im allgemeinen und xmlrpc im spezifischen erläutern.\n",
    "\n",
    "**Datenbank**: Die Kommunikation erfolgt über eine SQL Datenbank (bsp. SQLite). Der Fokus der Dokumentation soll zeigen, wie Daten in einer verteilten Applikation geteilt, verändert und abgeholt werden. Ausserdem sollen SQL Basics erläutert werden.\n",
    "\n",
    "**Frei**: Nach Absprache mit dem Dozenten kann auch ein freies Thema ausgewählt werden.\n"
   ]
  },
  {
   "cell_type": "markdown",
   "metadata": {},
   "source": [
    "# kvanC Chat-Bot-Applikation\n",
    "\n",
    "## Spezifikation\n",
    "\n",
    "**1. Architektur**\n",
    "\n",
    "Die Architektur kann frei gewählt werden. Wir haben bereits zwei verschiedene Architekturen gesehen: die TCP Übung und die UDP Übung. Die TCP Implementierung ist eine Server-Client Architektur, die UDP Implementierung hingegen eine Peer-2-Peer Architektur (jeder Client ist auch Server). Auch andere Architekturen können verwendet werden.\n",
    "\n",
    "**2. Minimum Kommunikation**\n",
    "\n",
    "Im Minimum müssen User miteinander kommunizieren können, sei dies direkt (1:1) oder alle mit allen (n:n). Die Kommunikation muss aber nicht zwingend nur lokal auf dem Server passieren, sondern kann auch von den Notebooks der Studierenden zum Server (und zurück) implementiert sein.\n",
    "\n",
    "**3. Chat Bot**\n",
    "\n",
    "Es soll ein Chat Bot implementiert wird, welcher sich als Client anmeldet und auf Meldungen hört. Kommt eine Meldung für ihn, soll er antworten. Der ASCII Chat Bot aus den Übungen kann verwendet werden, man kann aber auch einen eigenen Chat Bot schreiben.\n",
    "\n",
    "**4. Erweiterte Kommunikation**\n",
    "\n",
    "Um mehr als die Note 4 im praktischen Teil zu bekommen, müssen weitere Kommunikationspatterns (sofern vom Themenbereich überhaupt möglich) implementiert werden. Dies kann allerlei sein, wie wir es aus Chat Applikationen kennen, Beispiele wären: 1:n Kommunikation, Gruppen Kommunikation, 1:all (Broadcast) Kommunikation, ...\n",
    "\n",
    "## Server Architektur\n",
    "\n",
    "**1. IP Adressen**\n",
    "\n",
    "Jeder User hat eine eigene IP Adresse, welche benutzt werden kann um ihn via TCP/IP zu erreichen. Der Username wird lokal ebenfalls via /etc/hosts auf die IP Adresse aufgelöst. Wenn ein User sich auf einen Server verbindet, wird also Source IP ebenfalls, seine eigene IP verwendet.\n",
    "\n",
    "**2. Python Environment**\n",
    "\n",
    "Benutzt immer das Python environment kvanc. Dies wird default mässig bei jedem User geladen. Das Python environment steht auf der Konsole in Klammern (kvanc). Falls Pakete in diesem Environment fehlen, einfach melden und diese werden installiert.\n"
   ]
  },
  {
   "cell_type": "markdown",
   "metadata": {},
   "source": [
    "# Bewertung\n",
    "\n",
    "Siehe \"Bewertungsbogen.xlsx\"."
   ]
  },
  {
   "cell_type": "markdown",
   "metadata": {},
   "source": []
  }
 ],
 "metadata": {
  "kernelspec": {
   "display_name": "Python 3",
   "language": "python",
   "name": "python3"
  },
  "language_info": {
   "codemirror_mode": {
    "name": "ipython",
    "version": 3
   },
   "file_extension": ".py",
   "mimetype": "text/x-python",
   "name": "python",
   "nbconvert_exporter": "python",
   "pygments_lexer": "ipython3",
   "version": "3.7.4"
  }
 },
 "nbformat": 4,
 "nbformat_minor": 4
}
