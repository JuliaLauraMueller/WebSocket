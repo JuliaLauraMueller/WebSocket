{
 "cells": [
  {
   "cell_type": "markdown",
   "metadata": {},
   "source": [
    "# Websocket "
   ]
  },
  {
   "cell_type": "markdown",
   "metadata": {},
   "source": [
    "## Praktischer Teil - Chatbot"
   ]
  },
  {
   "cell_type": "markdown",
   "metadata": {},
   "source": [
    "**1.Auftrag**\n",
    "\n",
    "Das Konzept der Chat-Bot Applikation soll im Kontext des erarbeiteten Themas implementiert werden. Die Chat Applikation soll zeigen, wie eine einfache Implementierung dieses Themenbereichs aussehen kann und welche Funktionalitäten, aber auch welche Probleme und Schwierigkeiten damit verbunden sind. Das Konzept der Applikation kann auf die Eigenschaften der Technologie/Protokoll/Patterns angepasst werden. Es soll auch Wert auf die Integration des kvanC Jupyter Systems gelegt werden. Das heisst, dass die IP Adressen der Studierenden (oder die Usernamen via /etc/hosts) wenn angebracht oder nötig verwendet werden. Ebenso soll die Chat Applikation (evtl auch nur der Client) in das Jupyter Notebook miteinbezogen werden und so (nach einer Verteilung der Notebooks) von allen Studierenden ausprobiert werden können. Dies kann auch durch die Nutzung des Terminals erreicht werden, falls andere Programmiersprachen verwendet werden."
   ]
  },
  {
   "cell_type": "markdown",
   "metadata": {},
   "source": [
    "### Steps to do\n",
    "Write a coroutine that handles a single connection. It receives a WebSocket protocol instance and the URI path in argument.\n",
    "- Call recv() and send() to receive and send messages at any time.\n",
    "- When recv() or send() raises ConnectionClosed, clean up and exit. If you started other asyncio.Task, terminate them before exiting.\n",
    "- If you aren’t awaiting recv(), consider awaiting wait_closed() to detect quickly when the connection is closed.\n",
    "- You may ping() or pong() if you wish but it isn’t needed in general.\n",
    "\n",
    "Create a server with serve() which is similar to asyncio’s create_server(). You can also use it as an asynchronous context manager.\n",
    "- The server takes care of establishing connections, then lets the handler execute the application logic, and finally closes the connection after the handler exits normally or with an exception.\n",
    "- For advanced customization, you may subclass WebSocketServerProtocol and pass either this subclass or a factory function as the create_protocol argument."
   ]
  },
  {
   "cell_type": "markdown",
   "metadata": {},
   "source": [
    "## Server"
   ]
  },
  {
   "cell_type": "markdown",
   "metadata": {},
   "source": [
    "### WebSocket Example Server"
   ]
  },
  {
   "cell_type": "code",
   "execution_count": 1,
   "metadata": {},
   "outputs": [],
   "source": [
    "# imports\n",
    "import websockets\n",
    "import asyncio\n",
    "\n",
    "import nest_asyncio\n",
    "nest_asyncio.apply()"
   ]
  },
  {
   "cell_type": "code",
   "execution_count": 2,
   "metadata": {},
   "outputs": [],
   "source": [
    "# Init connection and create new websocket\n",
    "host = 'julia.mueller'\n",
    "port = 2000"
   ]
  },
  {
   "cell_type": "code",
   "execution_count": 3,
   "metadata": {},
   "outputs": [],
   "source": [
    "# send message and receive it\n",
    "async def receiveMessage(message):\n",
    "    print(f\"10. < {message}\")\n",
    "\n",
    "async def sendMessage():\n",
    "    print(\"sendMessage called.\")\n",
    "    message = f\"Hello Client, your message is received!!\"\n",
    "    await asyncio.sleep(2) # sleep for 2 seconds before returning message\n",
    "    print(\"returning message and exiting sendMessage\\n\")\n",
    "    return message\n",
    "    "
   ]
  },
  {
   "cell_type": "code",
   "execution_count": 4,
   "metadata": {},
   "outputs": [],
   "source": [
    "# handler for receiving and sending messages\n",
    "async def receiveMessage_handler(websocket):\n",
    "    print('6. entering receiveMessage_handler')\n",
    "    async for msg in websocket:\n",
    "        print('9. calling for receiveMessage')\n",
    "        await receiveMessage(msg)\n",
    "        print('11. Message received')\n",
    "        print('12. exiting receiveMessage_handler \\n')\n",
    "\n",
    "        \n",
    "async def sendMessage_handler(websocket):\n",
    "    print(\"7. entering sendMessage_handler:\\n\")\n",
    "    while True:\n",
    "        print('8. waiting for message')\n",
    "        message = await sendMessage()\n",
    "        print('13. Message before sending')\n",
    "        await websocket.send(message)\n",
    "        print('14. message sent.')\n",
    "        \n",
    "# sending/receiving combined in one handler\n",
    "async def message_handler(websocket):\n",
    "    print('3. calling receive_task')\n",
    "    receive_task = asyncio.ensure_future(\n",
    "        receiveMessage_handler(websocket))\n",
    "    print('4. calling send_task')\n",
    "    send_task = asyncio.ensure_future(\n",
    "        sendMessage_handler(websocket))\n",
    "    print('5. wait for done and pending \\n')\n",
    "    done, pending = await asyncio.wait(\n",
    "        [receive_task, send_task],\n",
    "        return_when=asyncio.FIRST_COMPLETED,\n",
    "    )\n",
    "    for task in pending:\n",
    "        task.cancel()"
   ]
  },
  {
   "cell_type": "code",
   "execution_count": 5,
   "metadata": {},
   "outputs": [],
   "source": [
    "# Create broadcast-communication\n",
    "clientsConnected = set()\n",
    "\n",
    "async def broadcast():\n",
    "    while True:\n",
    "        await asyncio.gather(\n",
    "            *[websocket.send(\"Hello, this is a broadcast communication. Welcome!\") for websocket in clientsConnected],\n",
    "            return_exceptions=False\n",
    "        )\n",
    "        await asyncio.sleep(3)\n",
    "        \n",
    "asyncio.create_task(broadcast())\n",
    "        \n",
    "async def broadcast_handler(websocket):\n",
    "    print(websocket)\n",
    "    clientsConnected.add(websocket)\n",
    "    try:\n",
    "        async for msg in websocket:\n",
    "            #websocket.send()\n",
    "            pass\n",
    "    except websockets.ConnectionClosedError:\n",
    "        pass\n",
    "    finally:\n",
    "        clientsConnected.remove(websocket)"
   ]
  },
  {
   "cell_type": "code",
   "execution_count": 6,
   "metadata": {},
   "outputs": [
    {
     "name": "stdout",
     "output_type": "stream",
     "text": [
      "1. Websocket-Server <websockets.server.Serve object at 0x7fa88c617d00> started.\n"
     ]
    },
    {
     "data": {
      "text/plain": [
       "<websockets.server.WebSocketServer at 0x7fa88c617b80>"
      ]
     },
     "execution_count": 6,
     "metadata": {},
     "output_type": "execute_result"
    },
    {
     "name": "stdout",
     "output_type": "stream",
     "text": [
      "2. message_handler is called \n",
      "\n",
      "<websockets.server.WebSocketServerProtocol object at 0x7fa88d076c40>\n",
      "2. message_handler is called \n",
      "\n",
      "<websockets.server.WebSocketServerProtocol object at 0x7fa88d8eb580>\n"
     ]
    }
   ],
   "source": [
    "# example from https://websockets.readthedocs.io/en/stable/intro.html\n",
    "async def receiver(websocket, path):\n",
    "    print(f\"2. message_handler is called \\n\")\n",
    "    await message_handler(websocket)\n",
    "    #await broadcast_handler(websocket)\n",
    "\n",
    "start_server = websockets.serve(receiver, host, port)\n",
    "print(f\"1. Websocket-Server {start_server} started.\")\n",
    "\n",
    "loop = asyncio.get_event_loop()\n",
    "loop.run_until_complete(start_server)"
   ]
  },
  {
   "cell_type": "code",
   "execution_count": null,
   "metadata": {},
   "outputs": [],
   "source": []
  }
 ],
 "metadata": {
  "kernelspec": {
   "display_name": "Python 3",
   "language": "python",
   "name": "python3"
  },
  "language_info": {
   "codemirror_mode": {
    "name": "ipython",
    "version": 3
   },
   "file_extension": ".py",
   "mimetype": "text/x-python",
   "name": "python",
   "nbconvert_exporter": "python",
   "pygments_lexer": "ipython3",
   "version": "3.8.1"
  }
 },
 "nbformat": 4,
 "nbformat_minor": 4
}
