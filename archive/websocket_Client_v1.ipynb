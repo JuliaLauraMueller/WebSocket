{
 "cells": [
  {
   "cell_type": "markdown",
   "metadata": {},
   "source": [
    "# Websocket "
   ]
  },
  {
   "cell_type": "markdown",
   "metadata": {},
   "source": [
    "## Praktischer Teil - Chatbot"
   ]
  },
  {
   "cell_type": "markdown",
   "metadata": {},
   "source": [
    "**1.Auftrag**\n",
    "\n",
    "Das Konzept der Chat-Bot Applikation soll im Kontext des erarbeiteten Themas implementiert werden. Die Chat Applikation soll zeigen, wie eine einfache Implementierung dieses Themenbereichs aussehen kann und welche Funktionalitäten, aber auch welche Probleme und Schwierigkeiten damit verbunden sind. Das Konzept der Applikation kann auf die Eigenschaften der Technologie/Protokoll/Patterns angepasst werden. Es soll auch Wert auf die Integration des kvanC Jupyter Systems gelegt werden. Das heisst, dass die IP Adressen der Studierenden (oder die Usernamen via /etc/hosts) wenn angebracht oder nötig verwendet werden. Ebenso soll die Chat Applikation (evtl auch nur der Client) in das Jupyter Notebook miteinbezogen werden und so (nach einer Verteilung der Notebooks) von allen Studierenden ausprobiert werden können. Dies kann auch durch die Nutzung des Terminals erreicht werden, falls andere Programmiersprachen verwendet werden."
   ]
  },
  {
   "cell_type": "markdown",
   "metadata": {},
   "source": [
    "### Steps To Do \n",
    "- Create a client with connect() which is similar to asyncio’s create_connection(). You can also use it as an asynchronous context manager.\n",
    "- For advanced customization, you may subclass WebSocketClientProtocol and pass either this subclass or a factory function as the create_protocol argument.\n",
    "- Call recv() and send() to receive and send messages at any time.\n",
    "- You may ping() or pong() if you wish but it isn’t needed in general.\n",
    "- If you aren’t using connect() as a context manager, call close() to terminate the connection."
   ]
  },
  {
   "cell_type": "markdown",
   "metadata": {},
   "source": [
    "## References\n",
    "https://stackoverflow.com/questions/3142705/is-there-a-websocket-client-implemented-for-python"
   ]
  },
  {
   "cell_type": "markdown",
   "metadata": {},
   "source": [
    "## Websocket Example Client Async"
   ]
  },
  {
   "cell_type": "code",
   "execution_count": 3,
   "metadata": {},
   "outputs": [],
   "source": [
    "import asyncio\n",
    "import websockets"
   ]
  },
  {
   "cell_type": "code",
   "execution_count": 4,
   "metadata": {},
   "outputs": [],
   "source": [
    "# Define host, port and url\n",
    "host = 'julia.mueller'\n",
    "port = 2000\n",
    "url = f\"ws://{host}:{port}\""
   ]
  },
  {
   "cell_type": "code",
   "execution_count": 18,
   "metadata": {},
   "outputs": [],
   "source": [
    "async def send_message(websocket):\n",
    "    message = (\"Hello Server, its Async-Client!\")\n",
    "    print(message)\n",
    "    for i in range(3):\n",
    "        await websocket.send(message)\n",
    "        print(f\">{message}\")\n",
    "        \n",
    "    await websocket.close()\n",
    "    print('Connection was successfully closed.')\n",
    "        "
   ]
  },
  {
   "cell_type": "code",
   "execution_count": 21,
   "metadata": {},
   "outputs": [],
   "source": [
    "async def receive_message(websocket):\n",
    "    response = websocket.recv()\n",
    "    print(f\">{response}\")"
   ]
  },
  {
   "cell_type": "code",
   "execution_count": 22,
   "metadata": {},
   "outputs": [
    {
     "data": {
      "text/plain": [
       "<Future at 0x7fec3c049970 state=pending>"
      ]
     },
     "execution_count": 22,
     "metadata": {},
     "output_type": "execute_result"
    },
    {
     "name": "stdout",
     "output_type": "stream",
     "text": [
      "Hello Server, its Async-Client!\n",
      ">Hello Server, its Async-Client!\n",
      ">Hello Server, its Async-Client!\n",
      ">Hello Server, its Async-Client!\n",
      "Connection was successfully closed.\n"
     ]
    },
    {
     "name": "stderr",
     "output_type": "stream",
     "text": [
      "<ipython-input-22-73d47d04fdd5>:6: RuntimeWarning: coroutine 'receive_message' was never awaited\n",
      "  receive_message(websocket)\n",
      "RuntimeWarning: Enable tracemalloc to get the object allocation traceback\n"
     ]
    }
   ],
   "source": [
    "# Async-Function to communicate with the server\n",
    "async def run():\n",
    "    async with websockets.connect(url) as websocket:\n",
    "        \n",
    "        await send_message(websocket)\n",
    "        receive_message(websocket)\n",
    "        \n",
    "# Event-Loop starten\n",
    "loop = asyncio.get_event_loop()\n",
    "asyncio.run_coroutine_threadsafe(run(), loop)"
   ]
  },
  {
   "cell_type": "code",
   "execution_count": null,
   "metadata": {},
   "outputs": [],
   "source": []
  }
 ],
 "metadata": {
  "kernelspec": {
   "display_name": "Python 3",
   "language": "python",
   "name": "python3"
  },
  "language_info": {
   "codemirror_mode": {
    "name": "ipython",
    "version": 3
   },
   "file_extension": ".py",
   "mimetype": "text/x-python",
   "name": "python",
   "nbconvert_exporter": "python",
   "pygments_lexer": "ipython3",
   "version": "3.8.1"
  }
 },
 "nbformat": 4,
 "nbformat_minor": 4
}
