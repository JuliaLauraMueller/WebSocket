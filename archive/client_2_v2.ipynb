{
 "cells": [
  {
   "cell_type": "markdown",
   "metadata": {},
   "source": [
    "Weitere Schritte\n",
    "- Doc-String dort wo es einen braucht einbauen, Code muss strukturiert sein. \n",
    "- Client soll beendet werden können. In sendMessage noch ein if einbauen —> vielleicht mit einem Exit keyboard?\n",
    "- Auswählen an welche Person man noch schreiben möchte\n",
    "- URI Attribut anschauen? http Pfad? (eher unwichtig) (nice to have, keine prio)"
   ]
  },
  {
   "cell_type": "code",
   "execution_count": 5,
   "metadata": {},
   "outputs": [],
   "source": [
    "%gui asyncio\n",
    "\n",
    "from ipywidgets import widgets, HBox, VBox, Layout\n",
    "from IPython.display import display\n",
    "import asyncio\n",
    "import os\n",
    "import websockets\n",
    "from re import search\n",
    "\n",
    "def wait_for_change(widget):\n",
    "    future = asyncio.Future()\n",
    "    def getvalue(change):\n",
    "        future.set_result(change.description)\n",
    "        widget.on_click(getvalue, remove=True) \n",
    "    widget.on_click(getvalue)\n",
    "    return future\n",
    "\n",
    "\n",
    "class Client:\n",
    "    \n",
    "    def __init__(self, user_name, server_port=8080):\n",
    "        self.user_name = user_name\n",
    "        self.server_port = server_port\n",
    "        self.chat_input = widgets.Text(placeholder='Send your message like this --> sender:receiver:message',description='Chat Input:',layout=Layout(width='80%'))\n",
    "        self.chat_area = widgets.Textarea(value = '', disabled=True, description='Chat:', layout=Layout(width='99%', height='200px'))\n",
    "        self.chat_button = widgets.Button(description='Send!',layout=Layout(width='19%'))\n",
    "        print(f\"this is my user name:  {self.user_name}\\n\")\n",
    "    \n",
    "    async def run(self):\n",
    "        self.websocket = await websockets.connect(f\"ws://{self.user_name}:{self.server_port}\")\n",
    "        # The first message is the user name\n",
    "        self.chat_area.value += \"Connection was successful for client at \" + f\"ws://{self.user_name}:{self.server_port}\\n\"\n",
    "        await self.websocket.send(os.path.expandvars(\"$USER\"))\n",
    "        asyncio.create_task(self.send_message())\n",
    "        asyncio.create_task(self.receive_message())\n",
    "        display(VBox([HBox([self.chat_input, self.chat_button]), self.chat_area]))\n",
    "\n",
    "    async def send_message(self):\n",
    "        while True:\n",
    "            x = await wait_for_change(self.chat_button)\n",
    "            self.chat_area.value += f\"{self.chat_input.value}\\n\"\n",
    "            if search('exit', self.chat_input.value):\n",
    "                await self.websocket.close()\n",
    "                self.chat_area.value += \"Connection was successfully closed.\"\n",
    "            else:\n",
    "                await self.websocket.send(self.chat_input.value)\n",
    "                self.chat_input.value = \"\"\n",
    "\n",
    "    async def receive_message(self):\n",
    "        while True:\n",
    "            response = await self.websocket.recv()\n",
    "            self.chat_area.value += f\"{response}\\n\"\n",
    "    "
   ]
  },
  {
   "cell_type": "code",
   "execution_count": 6,
   "metadata": {},
   "outputs": [
    {
     "name": "stdout",
     "output_type": "stream",
     "text": [
      "this is my user name:  julia.mueller\n",
      "\n"
     ]
    },
    {
     "data": {
      "application/vnd.jupyter.widget-view+json": {
       "model_id": "6d6b176bd9fc4711842e8a6e511856a3",
       "version_major": 2,
       "version_minor": 0
      },
      "text/plain": [
       "VBox(children=(HBox(children=(Text(value='', description='Chat Input:', layout=Layout(width='80%'), placeholde…"
      ]
     },
     "metadata": {},
     "output_type": "display_data"
    }
   ],
   "source": [
    "client = Client(user_name='julia.mueller')\n",
    "#client = Client(user_name='michelle.ngu')\n",
    "await client.run()"
   ]
  },
  {
   "cell_type": "code",
   "execution_count": null,
   "metadata": {},
   "outputs": [],
   "source": [
    "michelle.ngu:julia.mueller:hoi\n",
    "michelle.ngu:*:hoi\n"
   ]
  }
 ],
 "metadata": {
  "kernelspec": {
   "display_name": "Python 3",
   "language": "python",
   "name": "python3"
  },
  "language_info": {
   "codemirror_mode": {
    "name": "ipython",
    "version": 3
   },
   "file_extension": ".py",
   "mimetype": "text/x-python",
   "name": "python",
   "nbconvert_exporter": "python",
   "pygments_lexer": "ipython3",
   "version": "3.8.1"
  }
 },
 "nbformat": 4,
 "nbformat_minor": 4
}
