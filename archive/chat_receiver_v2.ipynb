{
 "cells": [
  {
   "cell_type": "markdown",
   "metadata": {
    "pycharm": {
     "name": "#%% md\n"
    }
   },
   "source": [
    "# kvanc Websocket-Server"
   ]
  },
  {
   "cell_type": "markdown",
   "metadata": {},
   "source": [
    "Nächste Schritte\n",
    "- Doc-String dort wo es einen braucht einbauen, Code muss strukturiert sein. (klar und verständlich)\n",
    "- Clean code\n",
    "- ~~Protkoll überlegen —> Wir wollen 1:1, an wenn muss man es schicken: simon.marcin:meldung: —> Meldung auseinander nehmen können und dann schauen wie man es schicken kann. UDP-Übung~~\n",
    "- ~~Websockets sind anonym —> Websocket-Objekt anschauen, Source IP herausfinden. Init clients_connected muss ein dict sein, kein set mehr. Get ip out of python object. Was haben wir alles in der connection drin?~~\n",
    "- ~~Pattern mit 1:1 & 1:* (broadcast), Gruppenname. join.gruppename, es reicht 1:1 und 1:* für Kommunikation~~\n",
    "- ~~done: Session wird beendet , User-name beendet, Server beenden muss noch gemacht werden~~~ \n",
    "- ~~User name muss drin sei bei der ersten Message die man schickt. Abspeichern von Username —> ins dict speichern. (siehe TCP übung~~~\n",
    "- ~~done: Websocket objekt aus dem dict löschen wenn Connection beende~~~\n",
    "- ~~Username im dict auf Name auflösen~~~"
   ]
  },
  {
   "cell_type": "code",
   "execution_count": 1,
   "metadata": {},
   "outputs": [
    {
     "name": "stdout",
     "output_type": "stream",
     "text": [
      "Init of WebsocketServer.\n"
     ]
    },
    {
     "data": {
      "text/plain": [
       "<websockets.server.WebSocketServer at 0x7f172e4ba130>"
      ]
     },
     "execution_count": 1,
     "metadata": {},
     "output_type": "execute_result"
    },
    {
     "name": "stdout",
     "output_type": "stream",
     "text": [
      "addr: ('10.35.148.180', 48128)\n",
      "<websockets.server.WebSocketServerProtocol object at 0x7f172ef82790> added to the chat.\n",
      "\n"
     ]
    }
   ],
   "source": [
    "import asyncio\n",
    "import os\n",
    "import websockets\n",
    "import nest_asyncio\n",
    "nest_asyncio.apply() # rausnehmen\n",
    "from re import search\n",
    "\n",
    "class WebsocketServer:\n",
    "    \"\"\"\n",
    "    This is a websocket client which can only receives messages from a websocket server.\n",
    "    \"\"\"\n",
    "\n",
    "    def __init__(self, server_ip=\"$USER\", server_port=8080):\n",
    "        \"\"\"\n",
    "        Init of Websocket_Client\n",
    "        server_ip str: Either and IPv4 address or a name which can get resolved to an IP address.\n",
    "        server_port int: default port is 80\n",
    "        user_name str: Your user_name within the chat --> user_name=\"$USER\"\n",
    "        \"\"\"\n",
    "        #self.server_ip = server_ip\n",
    "        self.server_port = server_port\n",
    "        self.clients_connected = dict() # key:name, value:websocketobject\n",
    "        self.server_ip = os.path.expandvars(server_ip)\n",
    "        self.all_user_names = None\n",
    "        self.get_all_user_names()\n",
    "        self.websocket_server = websockets.serve(self.receiver,\n",
    "                                                 self.server_ip, self.server_port)\n",
    "        print(\"Init of WebsocketServer.\")\n",
    "    \n",
    "    def get_all_user_names(self):\n",
    "        with open('/etc/hosts') as f:\n",
    "             read_data = f.read()                \n",
    "        self.all_user_names = read_data\n",
    "        #print(self.all_user_names[:300])\n",
    "    \n",
    "    ################ Create 1:1-Communication ################\n",
    "    #async def receiveMessage(self, message):\n",
    "    #    print(f\"< {message}\")\n",
    "\n",
    "    #async def sendMessage(self):\n",
    "    #    message = f\"Hello Client, your message is received!!\"\n",
    "    #    await asyncio.sleep(2) # sleep for 2 seconds before returning message\n",
    "    #    return message\n",
    "    #\n",
    "    #async def receiveMessage_handler(self, websocket):\n",
    "    #    async for msg in websocket:\n",
    "    #        await self.receiveMessage(msg)\n",
    "    #        print('1. message from client received')\n",
    "\n",
    "    #async def sendMessage_handler(self, websocket):\n",
    "    #    while True:\n",
    "    #        message = await self.sendMessage()\n",
    "    #        await websocket.send(message)\n",
    "    #        print('2. message sent to client')\n",
    "    #        #await asyncio.sleep(2)\n",
    "    #        \n",
    "    ## sending/receiving combined in one handler\n",
    "    #async def message_handler(self, websocket):\n",
    "    #    receive_task = asyncio.ensure_future(\n",
    "    #        self.receiveMessage_handler(websocket))\n",
    "    #    send_task = asyncio.ensure_future(\n",
    "    #        self.sendMessage_handler(websocket))\n",
    "    #    done, pending = await asyncio.wait(\n",
    "    #        [receive_task, send_task],\n",
    "    #        return_when=asyncio.FIRST_COMPLETED,\n",
    "    #    )\n",
    "    #    for task in pending:\n",
    "    #        task.cancel()\n",
    "            \n",
    "    ################ Create Broadcast-Communication ################\n",
    "    async def broadcast(self):\n",
    "        await asyncio.sleep(1)\n",
    "        while True:\n",
    "            await asyncio.gather(\n",
    "                *[websocket.send(\"Hello, this is a broadcast communication. Welcome!\") for websocket in self.clients_connected],\n",
    "                return_exceptions=False\n",
    "            )\n",
    "            await asyncio.sleep(2)\n",
    "        \n",
    "    # using broadcasting\n",
    "    async def connection_handler(self, websocket):\n",
    "        user_name = await websocket.recv()\n",
    "        print(f\"addr: {websocket.remote_address}\")\n",
    "        self.clients_connected[user_name] = websocket # value : websocketobject\n",
    "        print(f\"{websocket} added to the chat.\\n\")\n",
    "        \n",
    "        try:\n",
    "            async for msg in websocket:\n",
    "                print(f\"Message from client: {msg}\") # username: julia.mueller\n",
    "                sender, receiver, message = msg.split(':', maxsplit=2)\n",
    "                print(f\"split into sender:{sender}, receiver:{receiver}, message:{message}\")\n",
    "                \n",
    "                self.clients_connected[sender] = self.clients_connected.pop(user_name) # safe user in dict with name\n",
    "                print(f\"All Clients connected: {self.clients_connected}\\n\")\n",
    "                    \n",
    "                if receiver == \"*\": #broadcast send to all clients\n",
    "                    print(f\"A message will be sent to all receipients.\\n\")\n",
    "                    for user in self.clients_connected: \n",
    "                        if user != self.server_ip:\n",
    "                            await websocket.send(f\"Reply from server to all: {message}\") # an alle\n",
    "                else:\n",
    "                    if receiver in self.clients_connected: # send to one client\n",
    "                        await websocket.send(f\"Reply from server to {receiver} : {message}\") # an receiver\n",
    "                    else:\n",
    "                        await websocket.send(f\"{receiver} does not exist. Try sending it to another receiver.\")\n",
    "                \n",
    "        except websockets.ConnectionClosedError:\n",
    "            pass\n",
    "        \n",
    "        finally:\n",
    "            print(f\"Client {websocket} disconnected.\")\n",
    "            del self.clients_connected[user_name]\n",
    "        \n",
    "    ################ Receiver of Handler ################\n",
    "    async def receiver(self, websocket, path):\n",
    "        await self.connection_handler(websocket)\n",
    "        #await self.message_handler(websocket)\n",
    "\n",
    "        \n",
    "################ Start Websocket-Server ################\n",
    "server = WebsocketServer(server_ip='julia.mueller')\n",
    "loop = asyncio.get_event_loop()\n",
    "\n",
    "asyncio.create_task(server.broadcast())\n",
    "loop.run_until_complete(server.websocket_server)\n",
    "# Simons Code\n",
    "#asyncio.ensure_future(server.websocket_server)"
   ]
  },
  {
   "cell_type": "code",
   "execution_count": null,
   "metadata": {},
   "outputs": [],
   "source": []
  },
  {
   "cell_type": "code",
   "execution_count": null,
   "metadata": {},
   "outputs": [],
   "source": []
  }
 ],
 "metadata": {
  "kernelspec": {
   "display_name": "Python 3",
   "language": "python",
   "name": "python3"
  },
  "language_info": {
   "codemirror_mode": {
    "name": "ipython",
    "version": 3
   },
   "file_extension": ".py",
   "mimetype": "text/x-python",
   "name": "python",
   "nbconvert_exporter": "python",
   "pygments_lexer": "ipython3",
   "version": "3.8.1"
  },
  "pycharm": {
   "stem_cell": {
    "cell_type": "raw",
    "metadata": {
     "collapsed": false
    },
    "source": []
   }
  }
 },
 "nbformat": 4,
 "nbformat_minor": 4
}
