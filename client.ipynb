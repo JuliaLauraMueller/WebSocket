{
 "cells": [
  {
   "cell_type": "markdown",
   "metadata": {},
   "source": [
    "## Websocket Client "
   ]
  },
  {
   "cell_type": "code",
   "execution_count": 9,
   "metadata": {},
   "outputs": [],
   "source": [
    "%gui asyncio\n",
    "\n",
    "from ipywidgets import widgets, HBox, VBox, Layout\n",
    "from IPython.display import display\n",
    "import asyncio\n",
    "import os\n",
    "import websockets\n",
    "from re import search\n",
    "\n",
    "def wait_for_change(widget):\n",
    "    future = asyncio.Future()\n",
    "    def getvalue(change):\n",
    "        future.set_result(change.description)\n",
    "        widget.on_click(getvalue, remove=True) \n",
    "    widget.on_click(getvalue)\n",
    "    return future\n",
    "\n",
    "\n",
    "class WebsocketClient:\n",
    "    \"\"\"\n",
    "    Websocket client which can send and receive messages to any connected user.\n",
    "    \"\"\"\n",
    "    \n",
    "    def __init__(self, server_ip, server_port=8080):\n",
    "        \"\"\"\n",
    "        Init of Websocket-Client\n",
    "        server_ip (str): Either and IPv4 address or a name which can get resolved to an IP address.\n",
    "        server_port (int): default port is 8080\n",
    "        \"\"\"\n",
    "        self.server_ip = server_ip\n",
    "        self.server_port = server_port\n",
    "        self.user_name = os.path.expandvars(\"$USER\")\n",
    "        self.chat_input = widgets.Text(placeholder='Send your message like this --> receiver:message',description='Chat Input:',layout=Layout(width='80%'))\n",
    "        self.chat_area = widgets.Textarea(value = '', disabled=True, description='Chat:', layout=Layout(width='99%', height='280px'))\n",
    "        self.chat_button = widgets.Button(description='Send!',layout=Layout(width='19%'))\n",
    "    \n",
    "    async def connection(self):\n",
    "        \"\"\"\n",
    "        Connects the client to the server\n",
    "        \"\"\"\n",
    "        self.websocket = await websockets.connect(f\"ws://{self.server_ip}:{self.server_port}\")\n",
    "        self.chat_area.value += \"Connection was successful for user at \" + f\"ws://{self.server_ip}:{self.server_port}\\n\"\n",
    "            \n",
    "        # The first message is the user name\n",
    "        await self.websocket.send(self.user_name)\n",
    "        self.chat_area.value += f\"{self.user_name} added to the chat. To exit the chat type 'exit'.\\n\"\n",
    "        asyncio.create_task(self.send_message())\n",
    "        asyncio.create_task(self.receive_message())\n",
    "        display(VBox([HBox([self.chat_input, self.chat_button]), self.chat_area]))\n",
    "\n",
    "    async def send_message(self):\n",
    "        \"\"\"\n",
    "        Get input data from console input.\n",
    "        Sends input-message to the server via self.websocket and displays it into the chat-area.\n",
    "        \"\"\"\n",
    "        while True:\n",
    "            await wait_for_change(self.chat_button)\n",
    "            self.chat_area.value += f\"To {self.chat_input.value}\\n\"\n",
    "            \n",
    "            if search('exit', self.chat_input.value):\n",
    "                await self.websocket.close()\n",
    "                self.chat_area.value += \"Connection was successfully closed.\"\n",
    "            else:\n",
    "                await self.websocket.send(self.chat_input.value)\n",
    "                self.chat_input.value = \"\"\n",
    "\n",
    "    async def receive_message(self):\n",
    "        \"\"\"\n",
    "        Receives messages from server via self.websocket and displays it into the chat-area\n",
    "        \"\"\"\n",
    "        while True:\n",
    "            response = await self.websocket.recv()\n",
    "            self.chat_area.value += f\"From {response}\\n\""
   ]
  },
  {
   "cell_type": "code",
   "execution_count": 10,
   "metadata": {},
   "outputs": [
    {
     "data": {
      "application/vnd.jupyter.widget-view+json": {
       "model_id": "1dfd8a2d484e423db8066965da252100",
       "version_major": 2,
       "version_minor": 0
      },
      "text/plain": [
       "VBox(children=(HBox(children=(Text(value='', description='Chat Input:', layout=Layout(width='80%'), placeholde…"
      ]
     },
     "metadata": {},
     "output_type": "display_data"
    }
   ],
   "source": [
    "client = WebsocketClient(server_ip='kvanc.exercise')\n",
    "await client.connection() "
   ]
  },
  {
   "cell_type": "code",
   "execution_count": null,
   "metadata": {},
   "outputs": [],
   "source": []
  }
 ],
 "metadata": {
  "kernelspec": {
   "display_name": "Python 3",
   "language": "python",
   "name": "python3"
  },
  "language_info": {
   "codemirror_mode": {
    "name": "ipython",
    "version": 3
   },
   "file_extension": ".py",
   "mimetype": "text/x-python",
   "name": "python",
   "nbconvert_exporter": "python",
   "pygments_lexer": "ipython3",
   "version": "3.8.1"
  }
 },
 "nbformat": 4,
 "nbformat_minor": 4
}
